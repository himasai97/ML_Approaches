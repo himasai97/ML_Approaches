{
  "nbformat": 4,
  "nbformat_minor": 0,
  "metadata": {
    "colab": {
      "name": "InformationExtraction.ipynb",
      "provenance": [],
      "collapsed_sections": [],
      "authorship_tag": "ABX9TyMgy6ZJjsKHU1z9NMqZbgRw",
      "include_colab_link": true
    },
    "kernelspec": {
      "name": "python3",
      "display_name": "Python 3"
    }
  },
  "cells": [
    {
      "cell_type": "markdown",
      "metadata": {
        "id": "view-in-github",
        "colab_type": "text"
      },
      "source": [
        "<a href=\"https://colab.research.google.com/github/himasai97/ML_Approaches/blob/master/InformationExtraction.ipynb\" target=\"_parent\"><img src=\"https://colab.research.google.com/assets/colab-badge.svg\" alt=\"Open In Colab\"/></a>"
      ]
    },
    {
      "cell_type": "markdown",
      "metadata": {
        "id": "YqliLBO1xFME"
      },
      "source": [
        "# **Installing Required Libraries**"
      ]
    },
    {
      "cell_type": "code",
      "metadata": {
        "colab": {
          "base_uri": "https://localhost:8080/"
        },
        "id": "_yal1jWIikZ4",
        "outputId": "ae37d651-ca6e-4ff0-f911-00951695b9f3"
      },
      "source": [
        "#for converting pdf to text\r\n",
        "!pip install pymupdf\r\n",
        "\r\n",
        "#for language processing\r\n",
        "!pip install spacy"
      ],
      "execution_count": null,
      "outputs": [
        {
          "output_type": "stream",
          "text": [
            "Collecting pymupdf\n",
            "\u001b[?25l  Downloading https://files.pythonhosted.org/packages/75/ba/e3452b39855aa59d06fc149e1f51a8b14108b682b9f58f6556647ef56b2d/PyMuPDF-1.18.4-cp36-cp36m-manylinux2010_x86_64.whl (6.3MB)\n",
            "\u001b[K     |████████████████████████████████| 6.3MB 3.7MB/s \n",
            "\u001b[?25hInstalling collected packages: pymupdf\n",
            "Successfully installed pymupdf-1.18.4\n"
          ],
          "name": "stdout"
        }
      ]
    },
    {
      "cell_type": "markdown",
      "metadata": {
        "id": "BT5CzDbHxakw"
      },
      "source": [
        "# **Accessing pdf file from Google Drive**"
      ]
    },
    {
      "cell_type": "code",
      "metadata": {
        "colab": {
          "base_uri": "https://localhost:8080/"
        },
        "id": "THsXn8RKE_Gb",
        "outputId": "9a043d98-f4db-4dbf-bc50-6cad0a7ebcc9"
      },
      "source": [
        "# This is to access documents in Google Drive\r\n",
        "from google.colab import drive\r\n",
        "drive.mount(\"/content/drive\")\r\n",
        "# Click on the link in the output and copy/paste the code produced in the new tab here"
      ],
      "execution_count": null,
      "outputs": [
        {
          "output_type": "stream",
          "text": [
            "Mounted at /content/drive\n"
          ],
          "name": "stdout"
        }
      ]
    },
    {
      "cell_type": "code",
      "metadata": {
        "id": "sWgrAmM9F6qZ"
      },
      "source": [
        "f_name = 'Nature_Contact_and_Human_Health' #Replace it with the name of the pdf file\r\n",
        "f_path = '/content/drive/My Drive/'+f_name+'.pdf' #file path in the drive"
      ],
      "execution_count": null,
      "outputs": []
    },
    {
      "cell_type": "markdown",
      "metadata": {
        "id": "zrY4LjmOyM2O"
      },
      "source": [
        "# **Code for converting pdf to text**"
      ]
    },
    {
      "cell_type": "code",
      "metadata": {
        "id": "OYFpiPBdunop"
      },
      "source": [
        "import fitz  # this is pymupdf library\r\n",
        "\r\n",
        "# Obtain text from pdf\r\n",
        "text = \"\"\r\n",
        "with fitz.open(f_path) as doc:\r\n",
        "    for page in doc:\r\n",
        "        text += page.getText()\r\n",
        "\r\n",
        "#print(text) # to check the obtained text"
      ],
      "execution_count": null,
      "outputs": []
    },
    {
      "cell_type": "markdown",
      "metadata": {
        "id": "gXMkE7XWzamN"
      },
      "source": [
        "# **Text Cleaning**"
      ]
    },
    {
      "cell_type": "code",
      "metadata": {
        "id": "UT3izNYfuTAU"
      },
      "source": [
        "# Remove unwanted line breakers in the text\r\n",
        "text_dehyphen=text.replace(\"-\\n\",\"\")\r\n",
        "#print(text_dehyphen) # to check the resulting text\r\n",
        "\r\n",
        "# Removing abstract, acknowledgements and references \r\n",
        "strt_idx = text_dehyphen.find('Introduction')\r\n",
        "end_idx = text_dehyphen.find('Acknowledgments')\r\n",
        "txt_clean = text_dehyphen[strt_idx:end_idx]\r\n",
        "#print(txt_clean) # to check the cleaned text\r\n"
      ],
      "execution_count": null,
      "outputs": []
    },
    {
      "cell_type": "markdown",
      "metadata": {
        "id": "HusDxNcGynx4"
      },
      "source": [
        "# **Extracting sentences from text using key phrases**\r\n",
        "\r\n",
        "Importing Libraries"
      ]
    },
    {
      "cell_type": "code",
      "metadata": {
        "id": "lzT5symLh3za"
      },
      "source": [
        "# Import the English language class\r\n",
        "from spacy.lang.en import English\r\n",
        "from spacy.tokens import Token\r\n",
        "\r\n",
        "import spacy\r\n",
        "#!python -m spacy download en_core_web_sm #for first time run\r\n",
        "\r\n",
        "\r\n",
        "# Load the \"en_core_web_sm\" model (Small English model)\r\n",
        "import en_core_web_sm\r\n",
        "\r\n",
        "# Import the Matchers\r\n",
        "from spacy.matcher import Matcher\r\n",
        "from spacy.matcher import PhraseMatcher\r\n",
        "\r\n",
        "\r\n",
        "# Import the Doc and Span classes\r\n",
        "from spacy.tokens import Doc, Span"
      ],
      "execution_count": null,
      "outputs": []
    },
    {
      "cell_type": "code",
      "metadata": {
        "colab": {
          "base_uri": "https://localhost:8080/"
        },
        "id": "Nxe6sfWWuH2p",
        "outputId": "31f84fb2-02ac-4c9c-e78a-f5e5588ecfa6"
      },
      "source": [
        "nlp = en_core_web_sm.load()\r\n",
        "phrase_matcher = PhraseMatcher(nlp.vocab)\r\n",
        "\r\n",
        "# Phrases that are to be used as keywords for extracting sentences\r\n",
        "phrases = ['health benefits','anxiety']\r\n",
        "\r\n",
        "patterns = [nlp(wrd) for wrd in phrases]\r\n",
        "phrase_matcher.add('keywords', None, *patterns)\r\n",
        "\r\n",
        "#Processing text using NLP model\r\n",
        "doc = nlp(txt_clean)\r\n",
        "#print(doc.text) #to verify the processed text\r\n",
        "\r\n",
        "# Printing out sentences containing the pre-defined keywords\r\n",
        "for sent in doc.sents:\r\n",
        "    for match_id, start, end in phrase_matcher(nlp(sent.text)):\r\n",
        "        if nlp.vocab.strings[match_id] in [\"keywords\"]:\r\n",
        "            print(sent.text)\r\n",
        "            print()\r\n",
        "            break"
      ],
      "execution_count": null,
      "outputs": [
        {
          "output_type": "stream",
          "text": [
            "The important category of animal contact, the subject of a\n",
            "large body of literature (Barker and Wolen 2008; Kamioka et al.\n",
            "2014; Matchock 2015), is beyond the scope of this paper, as are the\n",
            "health benefits of the food and materials resulting from harvesting\n",
            "activities such as foraging, fishing, and hunting.\n",
            "\n",
            "\n",
            "Summary of evidence-based health benefits of nature contact.\n",
            "\n",
            "\n",
            "Reduced anxiety\n",
            "\n",
            "\n",
            "Stress reduction is both a health benefit in and of itself and a\n",
            "potential mechanism for other health benefits (Lovallo 2015).\n",
            "\n",
            "\n",
            "Epidemiology of health benefits\n",
            "\n",
            "\n",
            "In a recent review, Kuo (Kuo 2015) argued that improved\n",
            "immune function accounts for many of the health benefits of nature, based on meeting three criteria: accounting for the magnitude of observed health benefits; accounting for the specific\n",
            "health outcomes observed; and subsuming other possible pathways.\n",
            "\n",
            "Physical activity confers a broad range of health benefits, including prevention and/or amelioration of obesity, cardiovascular disease, some cancers, diabetes, some mental illness, osteoporosis,\n",
            "gall bladder disease, and other conditions (Bauman et al. 2016;\n",
            "Lee\n",
            "\n",
            "et al. 2008), suggesting that physical activity only partially accounts for health benefits.\n",
            "\n",
            "To the extent that nature contact promotes social\n",
            "connections, this may be a mechanism for associated health benefits (Maas et al. 2009a).\n",
            "\n",
            "\n",
            "To what extent does stress reduction mediate observed\n",
            "health benefits of nature contact?\n",
            "1.1a.\n",
            "\n",
            "mediate observed health benefits of nature contact?\n",
            "\n",
            "\n",
            "To what extent does social connectedness account for,\n",
            "or mediate, observed health benefits of nature contact?\n",
            "1.3a.\n",
            "\n",
            "Environmental Health Perspectives\n",
            "075001-5\n",
            "health benefits (Kahn 2010).\n",
            "\n",
            "and through it of health benefits (Cervinka et al. 2012; Lin et al.\n",
            "\n",
            "\n",
            "A proposed framework for studying the health benefits of nature contact (adapted from Shanahan et al. 2015b).\n",
            "\n",
            "\n",
            "What are the roles of duration and frequency of exposure\n",
            "in predicting health benefits?\n",
            "\n",
            "\n",
            "outcomes of public health importance, such as cardiovascular disease, cancer, depression, anxiety, wellbeing, and happiness?\n",
            "\n",
            "\n",
            "other filters may help determine whether, and how, nature contact\n",
            "confers health benefits.\n",
            "\n",
            "Research is needed\n",
            "to clarify the origin and durability of such preferences and their\n",
            "effects on health benefits.\n",
            "\n",
            "Because of the growing role of technology in\n",
            "human–nature interactions, it is important to understand how best\n",
            "to harness technology to maximize health benefits.\n",
            "\n",
            "\n",
            "What forms of technological nature contact provide\n",
            "health benefits, and what are those benefits?\n",
            "\n",
            "\n",
            "Although precise estimates may be elusive and uncertainty must be acknowledged, in many cases, health benefits will\n",
            "be large enough to rival other ecosystem services in value.\n",
            "\n",
            "\n",
            "Teams\n",
            "of scientists and policy makers need to be highly multidisciplinary to perform “full benefit accounting” that considers both\n",
            "health benefits and nonhealth benefits (ranging from storm water\n",
            "management to biodiversity protection to enhanced property\n",
            "value) of nature’s services.\n",
            "\n",
            "\n",
            "What are the best methods for valuing the health benefits\n",
            "of nature?\n",
            "\n",
            "\n",
            "Although descriptive studies can identify\n",
            "and quantify health benefits of nature contact, intervention studies are needed to determine what works in practice\n",
            "\n",
            "Might further development of such tools\n",
            "incorporate additional mental and physical health benefits?\n",
            "\n",
            "\n",
            "What is the efficacy of horticultural therapy in\n",
            "treating dementia, anxiety, stress, and other conditions in the institutionalized and noninstitutionalized elderly\n",
            "\n",
            "According to the best available evidence, nature contact offers\n",
            "considerable promise in addressing a range of health challenges,\n",
            "including many, such as obesity, cardiovascular disease, depression, and anxiety, that are public health priorities.\n",
            "\n",
            "However, many questions regarding the health benefits of nature contact remain unanswered.\n",
            "\n"
          ],
          "name": "stdout"
        }
      ]
    },
    {
      "cell_type": "code",
      "metadata": {
        "id": "GmurfVZEiLo3"
      },
      "source": [
        "# To print all sentences in the text\r\n",
        "sentences = list(doc.sents)\r\n",
        "for i in range(500,505):\r\n",
        "  print(sentences[i])0\r\n",
        "  print()"
      ],
      "execution_count": null,
      "outputs": []
    }
  ]
}